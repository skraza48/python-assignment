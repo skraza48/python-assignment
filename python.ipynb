{
 "cells": [
  {
   "cell_type": "markdown",
   "id": "7dfc36d0-da70-4afe-b09a-da18751ca501",
   "metadata": {},
   "source": [
    "#PYTHON BASICS ASSIGNMENT"
   ]
  },
  {
   "cell_type": "code",
   "execution_count": null,
   "id": "9e215ae9-6bf5-4ba7-abd0-8b59ca3d922e",
   "metadata": {},
   "outputs": [],
   "source": [
    "#Explain the keywords of python that makes it a popular choice for programming ?\n",
    "'''\n",
    "The key features of python are :\n",
    "- Readable and Simple \n",
    "     - Python is designed to be easy to read and understand which makes it better choice for beginners.\n",
    "- Versatiloity\n",
    "    - Python is used for wide range of applications , web development , data analytics etc.\n",
    "- Rich ecosystem of liabraries\n",
    "    - Python boasts a vast ecosystem of liabraries that simplify complex tasks such as data analysis (numpy , panda etc.)\n",
    "- Strong community support \n",
    "    - pyhton has a large and active community that provides support.\n",
    "- Open source and free \n",
    "    - Python is an open source language.it is free to use .\n",
    "- Platform independence \n",
    "    - Python can run on various operating system .\n",
    "- object oriented programming \n",
    "    - python sypports object oriented programming .\n",
    "'''"
   ]
  },
  {
   "cell_type": "code",
   "execution_count": 5,
   "id": "f4631334-3ed6-465a-ad3a-a33121989e0b",
   "metadata": {},
   "outputs": [
    {
     "name": "stdout",
     "output_type": "stream",
     "text": [
      "True\n",
      "False\n",
      "True\n"
     ]
    }
   ],
   "source": [
    "# Describe the role of predefined keywords in python and provide examples of how they are used in program ?\n",
    "'''\n",
    "Keywords in python are predefined reserved words with special meaning so that interpreter can understand them.\n",
    "1. keywords in python are case sensitive \n",
    "2. keywords can't be changed \n",
    "3. keywords can't be variales\n",
    "4. all keywords must be in lowercase except True and False \n",
    "'''\n",
    "# Examples :\n",
    "# 'is' and 'is not'\n",
    "a = [1,2,3]\n",
    "b = a\n",
    "c = [1,2,3]\n",
    "print (a is b)\n",
    "print (a is c)\n",
    "print (a is not c)"
   ]
  },
  {
   "cell_type": "code",
   "execution_count": 4,
   "id": "362e4fad-fb6a-497a-bcfc-379711a0e042",
   "metadata": {},
   "outputs": [
    {
     "name": "stdout",
     "output_type": "stream",
     "text": [
      "grade C\n"
     ]
    }
   ],
   "source": [
    "# 'if' , 'else' and 'elif'\n",
    "score= 75\n",
    "if score >= 90:\n",
    "    print(\"grade A\")\n",
    "elif (80<= score <90):\n",
    "    print(\"grade B\")\n",
    "else:\n",
    "    print(\"grade C\")"
   ]
  },
  {
   "cell_type": "code",
   "execution_count": 7,
   "id": "bd4b7d13-c464-429c-9633-72fc2e4696b6",
   "metadata": {},
   "outputs": [
    {
     "name": "stdout",
     "output_type": "stream",
     "text": [
      "True\n",
      "True\n",
      "3\n"
     ]
    }
   ],
   "source": [
    "# 'true' and 'false'\n",
    "print(True==1)\n",
    "print(False==0)\n",
    "print(True+True+True)"
   ]
  },
  {
   "cell_type": "code",
   "execution_count": 9,
   "id": "eb3f5c6b-bbb6-4d96-bf18-da765666c715",
   "metadata": {},
   "outputs": [
    {
     "name": "stdout",
     "output_type": "stream",
     "text": [
      "1\n",
      "2\n",
      "3\n",
      "4\n",
      "5\n",
      "6\n"
     ]
    }
   ],
   "source": [
    "# 'while'\n",
    "n=7\n",
    "i=1\n",
    "while i<n:\n",
    "    print(i)\n",
    "    i = i + 1"
   ]
  },
  {
   "cell_type": "code",
   "execution_count": 11,
   "id": "697f620f-c502-4289-a7a0-085bfb8b3a5c",
   "metadata": {},
   "outputs": [
    {
     "name": "stdout",
     "output_type": "stream",
     "text": [
      "True\n",
      "False\n",
      "True\n"
     ]
    }
   ],
   "source": [
    "# 'in' and 'not in'\n",
    "a = [1,2,3,4,5]\n",
    "print(3 in a)\n",
    "print(6 in a)\n",
    "print(6 not in a)"
   ]
  },
  {
   "cell_type": "code",
   "execution_count": 16,
   "id": "2c16b36a-6aa4-4be6-b02d-9db212a0ea00",
   "metadata": {},
   "outputs": [],
   "source": [
    "# Compare and contrast mutable and immutable objects in python with examples ?\n",
    "'''\n",
    "MUTABLE :\n",
    "- Mutable objects are those values whose values can be changed after they created.\n",
    "- modification happen in place, potentially saving memory \n",
    "- not inherently thread safe \n",
    "- dyanamic data structured where updates are frequent\n",
    "'''\n",
    "#example :\n",
    "my_list = [1,2,3,4]\n",
    "my_list.append(3) # it will modify the original\n",
    "\n",
    "'''\n",
    "IMMUTABLE\n",
    "- Immutable objects are those whose values cannot be changed after they are created .\n",
    "- modification require creating new objects \n",
    "- inherently thread safe\n",
    "- data that needs to remain constant \n",
    "'''\n",
    "# example :\n",
    "my_string = \"hello\"\n",
    "my_string = my_string + \"world\" # creates a new string , not modifying the original"
   ]
  },
  {
   "cell_type": "code",
   "execution_count": 19,
   "id": "bcbfbc7d-b37a-4d51-9e58-11d9aa61fe4a",
   "metadata": {},
   "outputs": [
    {
     "name": "stdout",
     "output_type": "stream",
     "text": [
      "8\n",
      "2\n",
      "15\n",
      "1.6666666666666667\n",
      "2\n",
      "125\n",
      "1\n"
     ]
    }
   ],
   "source": [
    "# Discuss the different types of operater in python and provides examples of how they are used ?\n",
    "'''\n",
    "There are seven types of operators in python :\n",
    "1. Arithmetic operators \n",
    "( + ,- ,* ,/ ,% ,** ,//)\n",
    "'''\n",
    "# exanple :\n",
    "x = 5\n",
    "y = 3\n",
    "print(x+y)\n",
    "\n",
    "print(x-y)\n",
    "\n",
    "print(x*y)\n",
    "\n",
    "print(x/y)\n",
    "\n",
    "print(x%y)\n",
    "\n",
    "print(x**y)\n",
    "\n",
    "print(x//y)\n",
    "\n"
   ]
  },
  {
   "cell_type": "code",
   "execution_count": 27,
   "id": "069eb09c-67e1-494a-85d0-2bcb6df9bd85",
   "metadata": {},
   "outputs": [
    {
     "data": {
      "text/plain": [
       "1"
      ]
     },
     "execution_count": 27,
     "metadata": {},
     "output_type": "execute_result"
    }
   ],
   "source": [
    "'''\n",
    "2. Assignment operator ( = , += , -= , *= , /= , %= , //= , **= )\n",
    "'''\n",
    "# example :\n",
    "x = 10%3\n",
    "x\n"
   ]
  },
  {
   "cell_type": "code",
   "execution_count": 29,
   "id": "a35a59f6-9fee-4384-971d-403ecf927425",
   "metadata": {},
   "outputs": [
    {
     "data": {
      "text/plain": [
       "8"
      ]
     },
     "execution_count": 29,
     "metadata": {},
     "output_type": "execute_result"
    }
   ],
   "source": [
    "x = 2**3\n",
    "x"
   ]
  },
  {
   "cell_type": "code",
   "execution_count": 30,
   "id": "c072f9b0-0c51-418e-811c-c1eddacfe9cd",
   "metadata": {},
   "outputs": [
    {
     "data": {
      "text/plain": [
       "13"
      ]
     },
     "execution_count": 30,
     "metadata": {},
     "output_type": "execute_result"
    }
   ],
   "source": [
    "x +=5\n",
    "x"
   ]
  },
  {
   "cell_type": "code",
   "execution_count": 31,
   "id": "a183dd9c-8fb2-4908-8e19-3a97f96476ee",
   "metadata": {},
   "outputs": [
    {
     "data": {
      "text/plain": [
       "10"
      ]
     },
     "execution_count": 31,
     "metadata": {},
     "output_type": "execute_result"
    }
   ],
   "source": [
    "x = 10\n",
    "x"
   ]
  },
  {
   "cell_type": "code",
   "execution_count": 32,
   "id": "9a76a696-719d-45fb-9007-da8e20d28691",
   "metadata": {},
   "outputs": [
    {
     "data": {
      "text/plain": [
       "-3"
      ]
     },
     "execution_count": 32,
     "metadata": {},
     "output_type": "execute_result"
    }
   ],
   "source": [
    "x =- 3\n",
    "x"
   ]
  },
  {
   "cell_type": "code",
   "execution_count": 33,
   "id": "c84267f3-99c0-4cf8-beef-0b6e33221aee",
   "metadata": {},
   "outputs": [
    {
     "data": {
      "text/plain": [
       "-6"
      ]
     },
     "execution_count": 33,
     "metadata": {},
     "output_type": "execute_result"
    }
   ],
   "source": [
    "x *= 2\n",
    "x"
   ]
  },
  {
   "cell_type": "code",
   "execution_count": 34,
   "id": "2b595f03-e738-4e60-8d3a-a58b92c514b1",
   "metadata": {},
   "outputs": [
    {
     "data": {
      "text/plain": [
       "-1.5"
      ]
     },
     "execution_count": 34,
     "metadata": {},
     "output_type": "execute_result"
    }
   ],
   "source": [
    "x /= 4 \n",
    "x"
   ]
  },
  {
   "cell_type": "code",
   "execution_count": 2,
   "id": "1d7c369f-f2f4-44fb-9e7b-72993e9bdb53",
   "metadata": {},
   "outputs": [
    {
     "data": {
      "text/plain": [
       "False"
      ]
     },
     "execution_count": 2,
     "metadata": {},
     "output_type": "execute_result"
    }
   ],
   "source": [
    "# comparison operator\n",
    "a=3\n",
    "b=2\n",
    "a==b"
   ]
  },
  {
   "cell_type": "code",
   "execution_count": 3,
   "id": "3b15b932-8aaa-4a58-bbdf-39c0907cb6b1",
   "metadata": {},
   "outputs": [
    {
     "data": {
      "text/plain": [
       "True"
      ]
     },
     "execution_count": 3,
     "metadata": {},
     "output_type": "execute_result"
    }
   ],
   "source": [
    "a!=b"
   ]
  },
  {
   "cell_type": "code",
   "execution_count": 4,
   "id": "6f777514-20da-4715-af9a-69a9263e9597",
   "metadata": {},
   "outputs": [
    {
     "data": {
      "text/plain": [
       "True"
      ]
     },
     "execution_count": 4,
     "metadata": {},
     "output_type": "execute_result"
    }
   ],
   "source": [
    "a>b"
   ]
  },
  {
   "cell_type": "code",
   "execution_count": 5,
   "id": "e1a76ad7-e78d-49da-8850-d6850d02f8d3",
   "metadata": {},
   "outputs": [
    {
     "data": {
      "text/plain": [
       "True"
      ]
     },
     "execution_count": 5,
     "metadata": {},
     "output_type": "execute_result"
    }
   ],
   "source": [
    "a>=b"
   ]
  },
  {
   "cell_type": "code",
   "execution_count": 6,
   "id": "d2a6ed54-504c-4c9d-9333-7886bcc35735",
   "metadata": {},
   "outputs": [
    {
     "data": {
      "text/plain": [
       "False"
      ]
     },
     "execution_count": 6,
     "metadata": {},
     "output_type": "execute_result"
    }
   ],
   "source": [
    "a<b"
   ]
  },
  {
   "cell_type": "code",
   "execution_count": 7,
   "id": "0f9eea31-7b27-4af2-9116-14c238d5c0c7",
   "metadata": {},
   "outputs": [
    {
     "data": {
      "text/plain": [
       "False"
      ]
     },
     "execution_count": 7,
     "metadata": {},
     "output_type": "execute_result"
    }
   ],
   "source": [
    "a<=b"
   ]
  },
  {
   "cell_type": "code",
   "execution_count": 8,
   "id": "024c73f4-1747-4ea4-8beb-93b380c41ceb",
   "metadata": {},
   "outputs": [
    {
     "name": "stdout",
     "output_type": "stream",
     "text": [
      "True\n",
      "False\n",
      "False\n"
     ]
    }
   ],
   "source": [
    "# logical operator \n",
    "x=5\n",
    "print(x>3 and x <10) # returns true because 5 is greater than 3 and 5 is less than 10(and)\n",
    "\n",
    "print(x>3 and x<4) # returns true because one of the condition are true (or)\n",
    "\n",
    "print(not(x>3 and x<10)) #returns false because not is used to reverse the result "
   ]
  },
  {
   "cell_type": "code",
   "execution_count": 10,
   "id": "2aead3b8-f2c9-4f6d-ba0d-210db724c3c4",
   "metadata": {},
   "outputs": [
    {
     "name": "stdout",
     "output_type": "stream",
     "text": [
      "True\n",
      "False\n",
      "True\n"
     ]
    }
   ],
   "source": [
    "# identity operator \n",
    "x=[1,2]\n",
    "y=x\n",
    "z=[1,2]\n",
    "print(x is y)\n",
    "print(x is z)\n",
    "print(x is not z)"
   ]
  },
  {
   "cell_type": "code",
   "execution_count": 14,
   "id": "1bf6c0b8-c9ef-46aa-881c-b2e632f10946",
   "metadata": {},
   "outputs": [
    {
     "name": "stdout",
     "output_type": "stream",
     "text": [
      "True\n",
      "False\n"
     ]
    }
   ],
   "source": [
    "# membership operator\n",
    "x=['hello', 'world']\n",
    "print('hello'in x)\n",
    "print('hello' not in x)"
   ]
  },
  {
   "cell_type": "code",
   "execution_count": 15,
   "id": "2fe1191c-9400-4e99-b3bb-cc794ff09168",
   "metadata": {},
   "outputs": [
    {
     "data": {
      "text/plain": [
       "str"
      ]
     },
     "execution_count": 15,
     "metadata": {},
     "output_type": "execute_result"
    }
   ],
   "source": [
    "# Explain the concept of type casting in python with examples ?\n",
    "'''\n",
    "type casting is the process of converting a value from one data type to another , it helps to change the type of data into another type .\n",
    "'''\n",
    "#examples \n",
    "#string to integer\n",
    "a=\"21\"\n",
    "type(a)"
   ]
  },
  {
   "cell_type": "code",
   "execution_count": 18,
   "id": "feb55219-831e-42c7-9450-94f05577f460",
   "metadata": {},
   "outputs": [],
   "source": [
    "a=int(a)"
   ]
  },
  {
   "cell_type": "code",
   "execution_count": 19,
   "id": "19fa47e2-e34a-43dc-aa1b-256c184edf14",
   "metadata": {},
   "outputs": [
    {
     "data": {
      "text/plain": [
       "int"
      ]
     },
     "execution_count": 19,
     "metadata": {},
     "output_type": "execute_result"
    }
   ],
   "source": [
    "type(a)"
   ]
  },
  {
   "cell_type": "code",
   "execution_count": 20,
   "id": "40832123-80f1-49e1-bb94-ae757e5fafdb",
   "metadata": {},
   "outputs": [
    {
     "data": {
      "text/plain": [
       "str"
      ]
     },
     "execution_count": 20,
     "metadata": {},
     "output_type": "execute_result"
    }
   ],
   "source": [
    "#string to float \n",
    "a=\"22.5\"\n",
    "type(a)"
   ]
  },
  {
   "cell_type": "code",
   "execution_count": 21,
   "id": "ecee9196-7477-4a2b-a06e-4e3136662f60",
   "metadata": {},
   "outputs": [],
   "source": [
    "a=float(a)"
   ]
  },
  {
   "cell_type": "code",
   "execution_count": 22,
   "id": "55ab2f58-e6c6-474c-941f-9b231ef59522",
   "metadata": {},
   "outputs": [
    {
     "data": {
      "text/plain": [
       "float"
      ]
     },
     "execution_count": 22,
     "metadata": {},
     "output_type": "execute_result"
    }
   ],
   "source": [
    "type(a)"
   ]
  },
  {
   "cell_type": "code",
   "execution_count": 24,
   "id": "221fff9e-a529-4cd5-9863-654182630b13",
   "metadata": {},
   "outputs": [
    {
     "data": {
      "text/plain": [
       "int"
      ]
     },
     "execution_count": 24,
     "metadata": {},
     "output_type": "execute_result"
    }
   ],
   "source": [
    "#integer to string\n",
    "a=2\n",
    "type(a)"
   ]
  },
  {
   "cell_type": "code",
   "execution_count": 25,
   "id": "229c757d-4b8e-498d-88ac-1b7beeb48035",
   "metadata": {},
   "outputs": [],
   "source": [
    "a=str(a)"
   ]
  },
  {
   "cell_type": "code",
   "execution_count": 26,
   "id": "1dcfc22c-c369-460e-bd76-fe7888fe615c",
   "metadata": {},
   "outputs": [
    {
     "data": {
      "text/plain": [
       "str"
      ]
     },
     "execution_count": 26,
     "metadata": {},
     "output_type": "execute_result"
    }
   ],
   "source": [
    "type(a)"
   ]
  },
  {
   "cell_type": "code",
   "execution_count": 27,
   "id": "baf3b160-067b-4e15-9c13-77128242771e",
   "metadata": {},
   "outputs": [
    {
     "name": "stdout",
     "output_type": "stream",
     "text": [
      "you are eligible to vote\n",
      "get out of here\n",
      "you are old\n"
     ]
    }
   ],
   "source": [
    "# How do conditional statement works in python ? illustrate with examples?\n",
    "'''\n",
    "- In python conditional statement allows you to execute different blocks of code based on whether a condition is true or false.\n",
    "'''\n",
    "#example\n",
    "# if statement\n",
    "age=20\n",
    "if age >=18:\n",
    "    print(\"you are eligible to vote\")\n",
    "\n",
    "# if else statement\n",
    "age=25\n",
    "if age >=30:\n",
    "    print(\"you are welcome\")\n",
    "else:\n",
    "    print(\"get out of here\")\n",
    "\n",
    "# elif statement \n",
    "age=55\n",
    "if age >=40:\n",
    "    print(\"you are old\")\n",
    "elif age >=30:\n",
    "    print(\"you are getting young\")\n",
    "else:\n",
    "    print(\"you are kid\")\n"
   ]
  },
  {
   "cell_type": "code",
   "execution_count": 28,
   "id": "b957348a-0655-4612-9422-77eebb5cd235",
   "metadata": {},
   "outputs": [
    {
     "name": "stdout",
     "output_type": "stream",
     "text": [
      "0\n",
      "1\n",
      "2\n",
      "3\n",
      "4\n",
      "apple\n",
      "banana\n",
      "cherry\n"
     ]
    }
   ],
   "source": [
    "# Describe the difference types of loops in python and their use cases with examples?\n",
    "'''\n",
    "- In python the main loop type are \"for\" and \"while\" loops \n",
    "  used for iterating over sequences and executing code repeatedly based on a condition \n",
    "  respectively. Nested loops allow iterating within other loops , and control statement like break and continue modify loo execution \n",
    "'''\n",
    "# while loop \n",
    "'''\n",
    "- use cases :\n",
    "  - repeating a tusk until a specific condition or target met .\n",
    "  - reading input from the user until a valid input is received .\n",
    "  - simulating events or processes that continue until a specific event occurs .\n",
    "'''\n",
    "# example :\n",
    "count = 0\n",
    "while count <5:\n",
    "    print(count)\n",
    "    count+=1\n",
    "\n",
    "# for loop\n",
    "'''\n",
    "- use cases :\n",
    "  - processing each element in a list or others iterable.\n",
    "  - repeating a block of code a specific numbers of times.\n",
    "  - iterating through the characters of a string.\n",
    "'''\n",
    "#examples :\n",
    "fruits = ['apple','banana','cherry']\n",
    "for fruit in fruits:\n",
    "    print(fruit)"
   ]
  },
  {
   "cell_type": "code",
   "execution_count": null,
   "id": "7b577b60-7f7b-48e5-87e3-ebccbc065969",
   "metadata": {},
   "outputs": [],
   "source": []
  }
 ],
 "metadata": {
  "kernelspec": {
   "display_name": "Python 3 (ipykernel)",
   "language": "python",
   "name": "python3"
  },
  "language_info": {
   "codemirror_mode": {
    "name": "ipython",
    "version": 3
   },
   "file_extension": ".py",
   "mimetype": "text/x-python",
   "name": "python",
   "nbconvert_exporter": "python",
   "pygments_lexer": "ipython3",
   "version": "3.12.7"
  }
 },
 "nbformat": 4,
 "nbformat_minor": 5
}
