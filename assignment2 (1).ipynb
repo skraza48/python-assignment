{
 "cells": [
  {
   "cell_type": "markdown",
   "id": "1aec818f-62b0-4462-a49e-b365fae217a6",
   "metadata": {},
   "source": [
    "ASSIGNMENT NO. 2"
   ]
  },
  {
   "cell_type": "raw",
   "id": "fa1a1282-23d3-41c2-8903-402cf25a36e1",
   "metadata": {},
   "source": [
    "DATA TYPES AND STRUCTURES QUESTION"
   ]
  },
  {
   "cell_type": "code",
   "execution_count": null,
   "id": "1a782f90-b211-4c4f-9d62-50cf16cef986",
   "metadata": {},
   "outputs": [],
   "source": [
    "#What are data structures and why are they important?\n",
    "'''\n",
    "- Data structure is a way of organising and storing data so that it can be accessed and manipulated efficiently .\n",
    "- Data structure is important because :-\n",
    "  1. Data structures allow for faster and more efficient data access, insertion, deletion, and searching.\n",
    "  2. They makes it easier with large datasets by providing a systematic way to organise and manage data .\n",
    "  3. It is problem solving .\n",
    "  4. Well chosen data structures can make code easier to read , understand and maintain.\n",
    "'''"
   ]
  },
  {
   "cell_type": "code",
   "execution_count": null,
   "id": "8d7f6c41-532f-4051-acec-99e6a3743f9b",
   "metadata": {},
   "outputs": [],
   "source": [
    "# Explain the difference between mutable and immutable data types with examples .\n",
    "'''\n",
    "MUTABLE DATA TYPES:\n",
    "-Those whose values can be changed after they are created\n",
    " examples:\n",
    " 1.my_list = [1,2,3]\n",
    "   my_list.append(4) #modifying the list\n",
    "   print(my_list) #output: [1,2,3,4]\n",
    "IMMUTABLE DATA TYPES:\n",
    "- Those whose values cannot be changed after they are created \n",
    "examples:\n",
    "1.my_string = \"hello\"\n",
    "  my_string[0]= \"w\" # this will gives an error \n",
    "'''"
   ]
  },
  {
   "cell_type": "code",
   "execution_count": null,
   "id": "b1a3fd77-9362-4e9a-b368-d1923fb27df3",
   "metadata": {},
   "outputs": [],
   "source": [
    "# What are the main differences between lists and tuples in python ?\n",
    "'''\n",
    "- Difference between lists and tuples in python are :-\n",
    "  1. lists are mutable object and tuples are immutable object.\n",
    "  2. lists have dynamic length but tuples have fixed length.\n",
    "  3. list syntax uses square brackets and tuple syntax uses round brackets.\n",
    "'''"
   ]
  },
  {
   "cell_type": "code",
   "execution_count": null,
   "id": "77ada1b5-5c76-40a5-9012-ca17e7497204",
   "metadata": {},
   "outputs": [],
   "source": [
    "# Describe how dictionaries store data ?\n",
    "'''\n",
    "-Dictionaries in python store data by using key value pairs.The key is used to uniquely identify the value.\n",
    "-Dictionaries use harsh table. When a key is added harsh function convert it into unique index for store in memory .\n",
    "-Dictionaries allow very fast access to values by using keys \n",
    "-In dictionaries each key must be unique but values can be duplicated.\n",
    "-Dictionaries are mutable \n",
    "'''"
   ]
  },
  {
   "cell_type": "code",
   "execution_count": null,
   "id": "435b7aef-1133-4bf5-a0e4-c2dee16c88b7",
   "metadata": {},
   "outputs": [],
   "source": [
    "# Why might you use a set insted of a list in python ?\n",
    "'''\n",
    "- We see use of sets insted of list in python because sets cannot have duplicate of same element ,\n",
    "  it makes sets highly useful to efficiently remove duplicate values from a list or tuples and to perform \n",
    "  common math operations like unions and intersections.\n",
    "'''"
   ]
  },
  {
   "cell_type": "code",
   "execution_count": null,
   "id": "c305ed30-b1c2-45a6-8af0-f8406157b093",
   "metadata": {},
   "outputs": [],
   "source": [
    "# Whatis a string in python, and how it is different from list ?\n",
    "'''\n",
    "- String is a sequence of characters that represent and manupulate textual data .\n",
    "- list is mutable where as string are immutable .\n",
    "- lists are use for storing collecting data where as string is use to represent text,names,labels ,etc.\n",
    "'''"
   ]
  },
  {
   "cell_type": "code",
   "execution_count": null,
   "id": "e9a53246-0725-46d9-a333-9e02e5b1b18d",
   "metadata": {},
   "outputs": [],
   "source": [
    "# How do tuples ensure data integrity in python ?\n",
    "'''\n",
    "- Tuples are immutable to ensure that their contents remain constant throughout their lifecycle,\n",
    "  guaranteeing data integrity and reliability .\n",
    "  This immutability allows tuples to be used as keys in dictionaries and elements in sets , as they can be hashed .\n",
    "'''"
   ]
  },
  {
   "cell_type": "code",
   "execution_count": null,
   "id": "40334197-0da2-4cb0-bbde-7a3a8e010931",
   "metadata": {},
   "outputs": [],
   "source": [
    "# What is hash table, and how does it relate to dictionaries in python?\n",
    "'''\n",
    "- Hash table is a data structure that stores key value pairs and gives fast access to values based on their keys. \n",
    "  it convert the key into index in an underlying array.\n",
    "- In python , built-in (dict) type is implemented using a hash table under the hood.\n",
    "   . by using my_dict={'name': 'alice'}\n",
    "   . hashes the key 'name'\n",
    "   . uses that hash to find a location in memory \n",
    "   . stores the value 'alice' there\n",
    "'''"
   ]
  },
  {
   "cell_type": "code",
   "execution_count": null,
   "id": "dba519c4-bb07-4320-9a41-cc5d92dcee1c",
   "metadata": {},
   "outputs": [],
   "source": [
    "# Can lists contain different data types in python ?\n",
    "'''\n",
    "- Yes list contains different data types in python , it contains various mix type data such as :-\n",
    "  1. an integer (42)\n",
    "  2. a string ('hello')\n",
    "  3. a float (3.42)\n",
    "  4. a boolean (true)\n",
    "  5. another list ([1,2])\n",
    "  6. a dictionary ({\"key\" : \"feature\"})\n",
    "'''"
   ]
  },
  {
   "cell_type": "code",
   "execution_count": null,
   "id": "aaee403c-a4b2-4d36-9b94-b9ed4f8b8c06",
   "metadata": {},
   "outputs": [],
   "source": [
    "# Explain why string are immutable in pyhton?\n",
    "'''\n",
    "- String in python are immutable , which means once a string is created , it cannot be changed .\n",
    "  1. Efficiency and memory optimization \n",
    "   - python uses aa technique called string interning to store commonly - used string only once in memory . \n",
    "  2. Thread safety\n",
    "   - since string can't be changed , they are safe to use across multiple threads without needing locks or other synchronization mechanisms.\n",
    "  3. Hashability\n",
    "   - immutable object can be hashed.\n",
    "'''"
   ]
  },
  {
   "cell_type": "code",
   "execution_count": null,
   "id": "83f430e8-02dc-499b-8cae-005c87ec170b",
   "metadata": {},
   "outputs": [],
   "source": [
    "# What advantages do dictionaries offer over lists for certain tasks ?\n",
    "'''\n",
    "- Dictionaries offer many offer such as :-\n",
    "  1. fast lookups\n",
    "  2. key-value pair structure\n",
    "  3. uniqueness of key \n",
    "  4. Direct access\n",
    "  5. more semantic code\n",
    "  6. flexibility with dynamic data \n",
    "'''"
   ]
  },
  {
   "cell_type": "code",
   "execution_count": null,
   "id": "26638036-d1e6-464b-9a80-6f7c7b85eba2",
   "metadata": {},
   "outputs": [],
   "source": [
    "# Describe a scenerio where using a tuple would be preferable over a list ?\n",
    "'''\n",
    "Tuples are immutable , which helps to protect the integrity of data but lists are mutable \n",
    "suppose a person having his addhar no. that should not be changed right , \n",
    "and if it is changeble so there is no protection of his data ,that's why tuple is must to use in this scenerio\n",
    "'''"
   ]
  },
  {
   "cell_type": "code",
   "execution_count": null,
   "id": "6d01b48f-eb31-4da4-81b6-18f483f62f56",
   "metadata": {},
   "outputs": [],
   "source": [
    "# How do sets handle duplicate values in python ?\n",
    "'''\n",
    "- When you create a set , any duplicate elements are discarded, and only unique values are stored.\n",
    "  for example :-\n",
    "  my_set = {1,2,2,3,4,4,4}\n",
    "  print(my_set)\n",
    "  {1,2,3,4}\n",
    "'''"
   ]
  },
  {
   "cell_type": "code",
   "execution_count": null,
   "id": "bd0790a6-6e7d-455e-98ca-419de7ceb587",
   "metadata": {},
   "outputs": [],
   "source": [
    "# How does the \"in\" keyword work differently for lists and dictionaries?\n",
    "'''\n",
    "IN WITH LIST :-\n",
    "When you use 'in' with list , it checks value or element in the list .\n",
    "example : list =[1,2,3,4]\n",
    "          print(2 in list) true\n",
    "          print(5 in list) false\n",
    "IN WITH DICTIONARIES :-\n",
    "when you use 'in' with dictionary , it checks the the key value exists in dictionay .\n",
    "example : dict = {\"a\":1,\"b:2\"}\n",
    "          print(\"a\" in dict) true \n",
    "          print(1 in dict) false (values are ignored)\n",
    "'''"
   ]
  },
  {
   "cell_type": "code",
   "execution_count": null,
   "id": "d9ad7eb8-c563-4547-b13b-0c2b11472491",
   "metadata": {},
   "outputs": [],
   "source": [
    "# Can you modify the elements of tuple? explain why or why not ?\n",
    "'''\n",
    "- No , you cannot change or modify the elements of tuple because tuple are immutable that means if it is created once it can't be change \n",
    "  but if tuple contains a mutable element then inside that element it can be changed like list.\n",
    "'''"
   ]
  },
  {
   "cell_type": "code",
   "execution_count": 1,
   "id": "77ffca01-fb24-4240-913b-61e6ce0e0d8f",
   "metadata": {},
   "outputs": [],
   "source": [
    "# what is nested dictionary , and give an example of its use case ?\n",
    "'''\n",
    "- nested dictionary is dictionary where you can find some of the values are themselves dictionaries . tis is also useful in presentation .\n",
    "  example of use case :-\n",
    "  lets assume you are managing a student database where each students has multiple attributes like name , grade , subjects etc.\n",
    "'''\n",
    "students ={\n",
    "    'student_1':{\n",
    "        'name': 'angel',\n",
    "        'grade':{\n",
    "            'math':70,\n",
    "            'science': 60\n",
    "        }\n",
    "    },\n",
    "    'student_2':{\n",
    "        'name': 'rahul',\n",
    "        'grade': {\n",
    "            'math':80,\n",
    "            'science':90\n",
    "        }\n",
    "    }\n",
    "}    "
   ]
  },
  {
   "cell_type": "code",
   "execution_count": 3,
   "id": "007024f8-e793-432f-a073-2265973de8c8",
   "metadata": {},
   "outputs": [
    {
     "name": "stdout",
     "output_type": "stream",
     "text": [
      "70\n"
     ]
    }
   ],
   "source": [
    "print(students['student_1']['grade']['math'])"
   ]
  },
  {
   "cell_type": "code",
   "execution_count": null,
   "id": "6600d96e-cb78-4a8f-b116-b754ff17f0f0",
   "metadata": {},
   "outputs": [],
   "source": [
    "# Describe the time complexity of accessing elements in a dictionary ?\n",
    "'''\n",
    "the time complexity of accessing elements in a dictionaryis mainly access time = 0(1) on average \n",
    "\n",
    "'''"
   ]
  },
  {
   "cell_type": "code",
   "execution_count": null,
   "id": "63d4f8d8-8f32-4d48-810c-c8528cbe8013",
   "metadata": {},
   "outputs": [],
   "source": [
    "# In what situations are lists preferred over dictionaries?\n",
    "'''\n",
    "1. when there is no key value pairs just need to store items in a specific order \n",
    "2. when you need to access items by index \n",
    "3. when you allow to use duplicate values \n",
    "4. list are easy to sort \n",
    "5. when you only need to collect the value .\n",
    "'''"
   ]
  },
  {
   "cell_type": "code",
   "execution_count": null,
   "id": "5c17de3b-ace4-48b6-9161-e6b2bfb7d5d5",
   "metadata": {},
   "outputs": [],
   "source": [
    "# Why are dicionaries considered unordered , and how does that affect data retrieval?\n",
    "'''\n",
    "dictionaries in python considered unordered because dictionaries use a hash table under the hood , where keys are hashed to deytermine \n",
    "where their corresponding values are stored , the focus was on fast lookups , insertion , and deletion-not maintaining order .\n",
    "\n",
    "how unordered nature affected data retrieval :-\n",
    "1. you couldn't rely on interation order to be consistent.\n",
    "2. sorting had to be explicity handled \n",
    "\n",
    "'''"
   ]
  },
  {
   "cell_type": "code",
   "execution_count": null,
   "id": "da94fbf5-80c9-4704-b992-f798751166f0",
   "metadata": {},
   "outputs": [],
   "source": [
    "# Explain the difference between a list and a dictionary in terms of data retrieval?\n",
    "'''\n",
    "- difference between a list and a dictionary in term of data retrival are as follows :-\n",
    "1. list are indexed by position where as dictionary are indexed by keys .\n",
    "2. In list data is retrived by using index number where as in dictionary data is retrived by using the key , not the position.\n",
    "'''"
   ]
  },
  {
   "cell_type": "markdown",
   "id": "f9755379-b1fe-4dc2-b1e6-62719200899a",
   "metadata": {},
   "source": [
    "PRACTICAL QUESTIONS "
   ]
  },
  {
   "cell_type": "code",
   "execution_count": 1,
   "id": "f4d56a5b-0fe9-490e-ace2-21392fba2c35",
   "metadata": {},
   "outputs": [
    {
     "name": "stdout",
     "output_type": "stream",
     "text": [
      "saklain\n"
     ]
    }
   ],
   "source": [
    "# Write a cose to create a string with your name and print it ?\n",
    "string = \"saklain\"\n",
    "print(string)"
   ]
  },
  {
   "cell_type": "code",
   "execution_count": 2,
   "id": "470c8e0e-6a14-414a-ba8c-aa4b61e6f43d",
   "metadata": {},
   "outputs": [
    {
     "data": {
      "text/plain": [
       "str"
      ]
     },
     "execution_count": 2,
     "metadata": {},
     "output_type": "execute_result"
    }
   ],
   "source": [
    "type(string)"
   ]
  },
  {
   "cell_type": "code",
   "execution_count": 3,
   "id": "cdc752dd-2503-4dad-b5c5-d071736440cd",
   "metadata": {},
   "outputs": [
    {
     "data": {
      "text/plain": [
       "11"
      ]
     },
     "execution_count": 3,
     "metadata": {},
     "output_type": "execute_result"
    }
   ],
   "source": [
    "# Write a code to find the length of the string \"hello world\"\n",
    "string = \"hello world\"\n",
    "len(string)"
   ]
  },
  {
   "cell_type": "code",
   "execution_count": 9,
   "id": "e72681be-c17f-4888-b221-4a5486bd1abe",
   "metadata": {},
   "outputs": [
    {
     "name": "stdout",
     "output_type": "stream",
     "text": [
      "pyt\n"
     ]
    }
   ],
   "source": [
    "# Write acode to slice the first 3 characters from the string\"python programmingli  = [pyton programming]\n",
    "string =\"python programing\"\n",
    "list = string [:3]\n",
    "print(list)"
   ]
  },
  {
   "cell_type": "code",
   "execution_count": 11,
   "id": "d1a3f657-d22f-4f6c-8ec3-927a8629a60b",
   "metadata": {},
   "outputs": [
    {
     "data": {
      "text/plain": [
       "'HELLO'"
      ]
     },
     "execution_count": 11,
     "metadata": {},
     "output_type": "execute_result"
    }
   ],
   "source": [
    "# Write a code to convert the string\" hello \" to uppercase \n",
    "string =\"hello\"\n",
    "string.upper()"
   ]
  },
  {
   "cell_type": "code",
   "execution_count": 12,
   "id": "e0d8962f-3464-4690-acc6-863d7d7da789",
   "metadata": {},
   "outputs": [
    {
     "data": {
      "text/plain": [
       "'i like orange'"
      ]
     },
     "execution_count": 12,
     "metadata": {},
     "output_type": "execute_result"
    }
   ],
   "source": [
    "# Write a code to replace the word \"apple\"with \"orange\" in string \" i like apple \"\n",
    "string = \"i like apple\"\n",
    "string.replace(\"apple\",\"orange\")"
   ]
  },
  {
   "cell_type": "code",
   "execution_count": 15,
   "id": "5787bc2f-314b-4af2-9f85-4eb76ad95937",
   "metadata": {},
   "outputs": [
    {
     "name": "stdout",
     "output_type": "stream",
     "text": [
      "[1, 2, 3, 4, 5]\n"
     ]
    }
   ],
   "source": [
    "# Write a code to create a list with the number 1 to 5 and print it \n",
    "list=[1,2,3,4,5]\n",
    "print(list)"
   ]
  },
  {
   "cell_type": "code",
   "execution_count": 16,
   "id": "863ec4ec-8012-417b-a6bb-cfb674bf3f87",
   "metadata": {},
   "outputs": [],
   "source": [
    "# Write a code to append the number 10 to the list [1,2,3,4]\n",
    "list =[1,2,3,4]\n",
    "list.append(10)"
   ]
  },
  {
   "cell_type": "code",
   "execution_count": 17,
   "id": "7b2221ef-66c2-4f28-83e9-b240f36203d8",
   "metadata": {},
   "outputs": [
    {
     "name": "stdout",
     "output_type": "stream",
     "text": [
      "[1, 2, 3, 4, 10]\n"
     ]
    }
   ],
   "source": [
    "print(list)"
   ]
  },
  {
   "cell_type": "code",
   "execution_count": 18,
   "id": "4b691c9f-da45-4740-962e-9365e88eab29",
   "metadata": {},
   "outputs": [
    {
     "name": "stdout",
     "output_type": "stream",
     "text": [
      "[1, 2, 4, 5]\n"
     ]
    }
   ],
   "source": [
    "# Write a code to remove the number 3 from the list [1,2,3,4,5]\n",
    "list = [1,2,3,4,5]\n",
    "list.remove(3)\n",
    "print(list)"
   ]
  },
  {
   "cell_type": "code",
   "execution_count": 20,
   "id": "9c0f7bb4-9e42-40ce-986b-f50de42df180",
   "metadata": {},
   "outputs": [
    {
     "data": {
      "text/plain": [
       "'b'"
      ]
     },
     "execution_count": 20,
     "metadata": {},
     "output_type": "execute_result"
    }
   ],
   "source": [
    "# Write a code to access the second element in the list ['a','b','c','d']\n",
    "list=['a','b','c','d']\n",
    "list[1]"
   ]
  },
  {
   "cell_type": "code",
   "execution_count": 21,
   "id": "ade34b5e-cdfa-45a0-aedb-2e1cdf46bb53",
   "metadata": {},
   "outputs": [
    {
     "data": {
      "text/plain": [
       "[50, 40, 30, 20, 10]"
      ]
     },
     "execution_count": 21,
     "metadata": {},
     "output_type": "execute_result"
    }
   ],
   "source": [
    "# Write a code to reverse the list [10,20,30,40,50]\n",
    "list=[10,20,30,40,50]\n",
    "list[::-1]"
   ]
  },
  {
   "cell_type": "code",
   "execution_count": 22,
   "id": "d2063b8b-a6ba-4e37-a7d2-0e9e5868668b",
   "metadata": {},
   "outputs": [
    {
     "name": "stdout",
     "output_type": "stream",
     "text": [
      "(100, 200, 300)\n"
     ]
    }
   ],
   "source": [
    "# Write a code to create a tuple with the elements 100,200,300 and print it \n",
    "tuple=(100,200,300)\n",
    "print(tuple)"
   ]
  },
  {
   "cell_type": "code",
   "execution_count": 25,
   "id": "284646a2-86ef-4ce1-8423-26f764c562ab",
   "metadata": {},
   "outputs": [
    {
     "name": "stdout",
     "output_type": "stream",
     "text": [
      "('green', 'blue', 'yellow')\n"
     ]
    }
   ],
   "source": [
    "# Write a code a access the second - to - last element of the tuple ('red','green','blue','yellow')\n",
    "tuple = ('red','green','blue','yellow')\n",
    "print(tuple[1:])"
   ]
  },
  {
   "cell_type": "code",
   "execution_count": 27,
   "id": "e75d336c-96fe-449f-bc4d-8153dd6b8879",
   "metadata": {},
   "outputs": [
    {
     "data": {
      "text/plain": [
       "5"
      ]
     },
     "execution_count": 27,
     "metadata": {},
     "output_type": "execute_result"
    }
   ],
   "source": [
    "# Write a code to find the minimum number in the tuple (10,20,5,15)\n",
    "tuple = (10,20,5,15)\n",
    "min(tuple)"
   ]
  },
  {
   "cell_type": "code",
   "execution_count": 28,
   "id": "629732d4-4ca5-4081-ae8d-43fe45dbf6b8",
   "metadata": {},
   "outputs": [
    {
     "data": {
      "text/plain": [
       "1"
      ]
     },
     "execution_count": 28,
     "metadata": {},
     "output_type": "execute_result"
    }
   ],
   "source": [
    "# Write acode to find the index of the element\"cat\"in the tuple ('dog','cat','rabbit')\n",
    "tuple=('dog','cat','rabbit')\n",
    "tuple.index('cat')"
   ]
  },
  {
   "cell_type": "code",
   "execution_count": 30,
   "id": "63f62c13-1e48-4523-ac5d-86368f3439ff",
   "metadata": {},
   "outputs": [
    {
     "name": "stdout",
     "output_type": "stream",
     "text": [
      "yes it is in tuple\n"
     ]
    }
   ],
   "source": [
    "# Write a code to create a tuple containing three different fruits and check if \"kiwi\" is in it .\n",
    "tuple = ('mango','kiwi','apple')\n",
    "if 'kiwi' in tuple:\n",
    "    print('yes it is in tuple')"
   ]
  },
  {
   "cell_type": "code",
   "execution_count": 31,
   "id": "595a5849-8028-445d-aa90-9327203348a1",
   "metadata": {},
   "outputs": [
    {
     "name": "stdout",
     "output_type": "stream",
     "text": [
      "{'a', 'b', 'c'}\n"
     ]
    }
   ],
   "source": [
    "# Write a code to create a set with the elements 'a','b','c' and print it \n",
    "set = {'a','b','c'}\n",
    "print(set)"
   ]
  },
  {
   "cell_type": "code",
   "execution_count": 37,
   "id": "2facc508-8ff8-450d-8c8e-405fb699352c",
   "metadata": {},
   "outputs": [
    {
     "name": "stdout",
     "output_type": "stream",
     "text": [
      "set()\n"
     ]
    }
   ],
   "source": [
    "# Write a code to clear all the elements from the set {1,2,3,4,5}\n",
    "set = {1,2,3,4,5}\n",
    "set.clear()\n",
    "print(set)\n"
   ]
  },
  {
   "cell_type": "code",
   "execution_count": 38,
   "id": "5d954529-d7a0-4dde-ae5d-1950f5a7969a",
   "metadata": {},
   "outputs": [
    {
     "name": "stdout",
     "output_type": "stream",
     "text": [
      "{1, 2, 3}\n"
     ]
    }
   ],
   "source": [
    "# Write a code to remove the element 4 from the set {1,2,3,4}\n",
    "set = {1,2,3,4}\n",
    "set.remove(4)\n",
    "print(set)"
   ]
  },
  {
   "cell_type": "code",
   "execution_count": 39,
   "id": "4b53eb76-7de5-491f-a66b-ba7bc0d49aa3",
   "metadata": {},
   "outputs": [
    {
     "data": {
      "text/plain": [
       "{1, 2, 3, 4, 5}"
      ]
     },
     "execution_count": 39,
     "metadata": {},
     "output_type": "execute_result"
    }
   ],
   "source": [
    "# Write a code to find the union of two sets {1,2,3} and {3,4,5}\n",
    "set1 = {1,2,3}\n",
    "set2 = {3,4,5}\n",
    "set.union(set1,set2)"
   ]
  },
  {
   "cell_type": "code",
   "execution_count": 41,
   "id": "81c0f078-c9d8-496d-9706-7d532e7dd443",
   "metadata": {},
   "outputs": [
    {
     "data": {
      "text/plain": [
       "{2, 3}"
      ]
     },
     "execution_count": 41,
     "metadata": {},
     "output_type": "execute_result"
    }
   ],
   "source": [
    "# Write a code to find the intersection of two sets {1,2,3} and {2,3,4}\n",
    "set1 = {1,2,3}\n",
    "set2 = {2,3,4}\n",
    "set.intersection(set1,set2)"
   ]
  },
  {
   "cell_type": "code",
   "execution_count": 46,
   "id": "f0974f41-be31-49f3-b441-d5f94541864c",
   "metadata": {},
   "outputs": [
    {
     "name": "stdout",
     "output_type": "stream",
     "text": [
      "{'name': 'sumit', 'age': 23, 'city': 'dhanbad'}\n"
     ]
    }
   ],
   "source": [
    "# Write a code to create a dictionary with the keys 'name','age','city',and print it \n",
    "dict = { \n",
    "    \"name\":\"sumit\",\n",
    "    \"age\":23,\n",
    "    \"city\":\"dhanbad\"\n",
    "}\n",
    "print(dict)"
   ]
  },
  {
   "cell_type": "code",
   "execution_count": 2,
   "id": "d45aef75-a057-4ff6-88c3-9f81f97080db",
   "metadata": {},
   "outputs": [
    {
     "name": "stdout",
     "output_type": "stream",
     "text": [
      "{'name': 'john', 'age': 25, 'country': 'usa'}\n"
     ]
    }
   ],
   "source": [
    "# Write a code to add a new key value pair \"country\":\"usa\" to the dictionary{'name':'john','age':25}\n",
    "dict = {'name':'john','age':25}\n",
    "dict.update({\"country\":\"usa\"})\n",
    "print(dict)"
   ]
  },
  {
   "cell_type": "code",
   "execution_count": 5,
   "id": "0b8467b4-4f11-408e-8540-27e6f186d2f8",
   "metadata": {},
   "outputs": [
    {
     "name": "stdout",
     "output_type": "stream",
     "text": [
      "alice\n"
     ]
    }
   ],
   "source": [
    "# Write a code to access the value associated with the key \"name\" in the dictionary {'name':'alice','age':30}\n",
    "dict = {'name':'alice','age':'30'}\n",
    "dict_1=dict['name']\n",
    "print(dict_1)\n"
   ]
  },
  {
   "cell_type": "code",
   "execution_count": 11,
   "id": "7cb13caa-5b30-45d2-a7b6-0ab816765b83",
   "metadata": {},
   "outputs": [
    {
     "name": "stdout",
     "output_type": "stream",
     "text": [
      "{'name': 'bob', 'city': 'new york'}\n"
     ]
    }
   ],
   "source": [
    "# Write a code to remove the key \"age\" from the dictionary {'name':'bob','age':22,'city':'new york'}.\n",
    "dict = {'name':'bob','age':22,'city':'new york'}\n",
    "del dict['age']\n",
    "print(dict)\n"
   ]
  },
  {
   "cell_type": "code",
   "execution_count": 12,
   "id": "b0614777-81b0-44f2-8125-40f3cbf5f692",
   "metadata": {},
   "outputs": [
    {
     "name": "stdout",
     "output_type": "stream",
     "text": [
      "yes it is in dict\n"
     ]
    }
   ],
   "source": [
    "# Write a code to check if the key \"city\" exists in dictionary {'name':'alice','city':'paris'}\n",
    "dict = {'name':'alice','city':'paris'}\n",
    "if 'city' in dict :\n",
    "    print('yes it is in dict')\n",
    "else:\n",
    "    print('no it is not present')"
   ]
  },
  {
   "cell_type": "code",
   "execution_count": 14,
   "id": "c3aeb817-7e2a-4c48-a6e5-8590668e5862",
   "metadata": {},
   "outputs": [
    {
     "name": "stdout",
     "output_type": "stream",
     "text": [
      "[1, 2, 3]\n",
      "(3, 4, 5)\n",
      "{'name': 'rahul', 'age': 22}\n"
     ]
    }
   ],
   "source": [
    "# Write a code to create a list , a tuple,and a dictionary, and print them all.\n",
    "list = [1,2,3]\n",
    "tuple = (3,4,5)\n",
    "dict = {'name':'rahul','age':22}\n",
    "print(list)\n",
    "print(tuple)\n",
    "print(dict)"
   ]
  },
  {
   "cell_type": "code",
   "execution_count": 15,
   "id": "2f517ab2-bb93-45df-95d4-fc2eaabcc089",
   "metadata": {},
   "outputs": [
    {
     "name": "stdout",
     "output_type": "stream",
     "text": [
      "[2, 10, 16, 25, 45, 68]\n"
     ]
    }
   ],
   "source": [
    "# Write a code to create a list of 5 random numbers between 1 and 100 , sort it in ascending order, and print the result \n",
    "list=[10,25,68,2,45,16]\n",
    "list.sort()\n",
    "print (list)"
   ]
  },
  {
   "cell_type": "code",
   "execution_count": 17,
   "id": "f0ddd3ba-1d4a-41c0-bf6d-d44f93d55983",
   "metadata": {},
   "outputs": [
    {
     "data": {
      "text/plain": [
       "'ravi'"
      ]
     },
     "execution_count": 17,
     "metadata": {},
     "output_type": "execute_result"
    }
   ],
   "source": [
    "# Write a code to create a list with strings and print the element at the third index \n",
    "list=['apple','banana','kiwi','ravi','ram']\n",
    "list[3]"
   ]
  },
  {
   "cell_type": "code",
   "execution_count": 23,
   "id": "b7579137-2a7f-4e18-ad80-f8ebab13d550",
   "metadata": {},
   "outputs": [
    {
     "name": "stdout",
     "output_type": "stream",
     "text": [
      "{'name': 'joy', 'city': 'new york'}\n"
     ]
    }
   ],
   "source": [
    "# Write a code to combine two dictionaries into one and print the result\n",
    "dict_1 = {'name':'rahul','city':'dhanbad'}\n",
    "dict_2 = {'name':'joy','city':'new york'}\n",
    "dict_1 |= dict_2\n",
    "print(dict_2)"
   ]
  },
  {
   "cell_type": "code",
   "execution_count": null,
   "id": "b48d7417-57d6-4837-98ab-6b03c4c7387b",
   "metadata": {},
   "outputs": [],
   "source": [
    "#  Write a code to convert a list of strings into a set \n"
   ]
  }
 ],
 "metadata": {
  "kernelspec": {
   "display_name": "Python 3 (ipykernel)",
   "language": "python",
   "name": "python3"
  },
  "language_info": {
   "codemirror_mode": {
    "name": "ipython",
    "version": 3
   },
   "file_extension": ".py",
   "mimetype": "text/x-python",
   "name": "python",
   "nbconvert_exporter": "python",
   "pygments_lexer": "ipython3",
   "version": "3.12.7"
  }
 },
 "nbformat": 4,
 "nbformat_minor": 5
}
